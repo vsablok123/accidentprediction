{
 "cells": [
  {
   "cell_type": "code",
   "execution_count": 107,
   "metadata": {},
   "outputs": [],
   "source": [
    "import numpy as np\n",
    "import pandas as pd\n",
    "import seaborn as sns\n",
    "import matplotlib.pyplot as plt"
   ]
  },
  {
   "cell_type": "code",
   "execution_count": 108,
   "metadata": {},
   "outputs": [],
   "source": [
    "from ipynb.fs.full.DataCleaningProcess import cleanData"
   ]
  },
  {
   "cell_type": "code",
   "execution_count": 109,
   "metadata": {},
   "outputs": [],
   "source": [
    "cleanData = cleanData()"
   ]
  },
  {
   "cell_type": "code",
   "execution_count": 4,
   "metadata": {},
   "outputs": [
    {
     "data": {
      "text/html": [
       "<div>\n",
       "<style scoped>\n",
       "    .dataframe tbody tr th:only-of-type {\n",
       "        vertical-align: middle;\n",
       "    }\n",
       "\n",
       "    .dataframe tbody tr th {\n",
       "        vertical-align: top;\n",
       "    }\n",
       "\n",
       "    .dataframe thead th {\n",
       "        text-align: right;\n",
       "    }\n",
       "</style>\n",
       "<table border=\"1\" class=\"dataframe\">\n",
       "  <thead>\n",
       "    <tr style=\"text-align: right;\">\n",
       "      <th></th>\n",
       "      <th>ID</th>\n",
       "      <th>Severity</th>\n",
       "      <th>Start_Lat</th>\n",
       "      <th>Start_Lng</th>\n",
       "      <th>Distance(mi)</th>\n",
       "      <th>City</th>\n",
       "      <th>County</th>\n",
       "      <th>State</th>\n",
       "      <th>Temperature(F)</th>\n",
       "      <th>Humidity(%)</th>\n",
       "      <th>...</th>\n",
       "      <th>Traffic_Signal</th>\n",
       "      <th>Turning_Loop</th>\n",
       "      <th>Sunrise_Sunset</th>\n",
       "      <th>Civil_Twilight</th>\n",
       "      <th>weather_keyword</th>\n",
       "      <th>Year</th>\n",
       "      <th>Month</th>\n",
       "      <th>Date</th>\n",
       "      <th>Hour</th>\n",
       "      <th>Weekday</th>\n",
       "    </tr>\n",
       "  </thead>\n",
       "  <tbody>\n",
       "    <tr>\n",
       "      <td>116060</td>\n",
       "      <td>A-116062</td>\n",
       "      <td>3</td>\n",
       "      <td>27.981367</td>\n",
       "      <td>-82.326561</td>\n",
       "      <td>0.01</td>\n",
       "      <td>Tampa</td>\n",
       "      <td>Hillsborough</td>\n",
       "      <td>FL</td>\n",
       "      <td>80.6</td>\n",
       "      <td>70.0</td>\n",
       "      <td>...</td>\n",
       "      <td>False</td>\n",
       "      <td>False</td>\n",
       "      <td>Day</td>\n",
       "      <td>Day</td>\n",
       "      <td>overcast</td>\n",
       "      <td>2016</td>\n",
       "      <td>11</td>\n",
       "      <td>30</td>\n",
       "      <td>15</td>\n",
       "      <td>2</td>\n",
       "    </tr>\n",
       "    <tr>\n",
       "      <td>116061</td>\n",
       "      <td>A-116063</td>\n",
       "      <td>3</td>\n",
       "      <td>27.981367</td>\n",
       "      <td>-82.326561</td>\n",
       "      <td>0.01</td>\n",
       "      <td>Tampa</td>\n",
       "      <td>Hillsborough</td>\n",
       "      <td>FL</td>\n",
       "      <td>80.6</td>\n",
       "      <td>65.0</td>\n",
       "      <td>...</td>\n",
       "      <td>False</td>\n",
       "      <td>False</td>\n",
       "      <td>Day</td>\n",
       "      <td>Day</td>\n",
       "      <td>cloudy</td>\n",
       "      <td>2016</td>\n",
       "      <td>11</td>\n",
       "      <td>30</td>\n",
       "      <td>16</td>\n",
       "      <td>2</td>\n",
       "    </tr>\n",
       "    <tr>\n",
       "      <td>116062</td>\n",
       "      <td>A-116064</td>\n",
       "      <td>2</td>\n",
       "      <td>25.627699</td>\n",
       "      <td>-80.374451</td>\n",
       "      <td>0.01</td>\n",
       "      <td>Miami</td>\n",
       "      <td>Miami-Dade</td>\n",
       "      <td>FL</td>\n",
       "      <td>80.1</td>\n",
       "      <td>71.0</td>\n",
       "      <td>...</td>\n",
       "      <td>True</td>\n",
       "      <td>False</td>\n",
       "      <td>Day</td>\n",
       "      <td>Day</td>\n",
       "      <td>cloudy</td>\n",
       "      <td>2016</td>\n",
       "      <td>11</td>\n",
       "      <td>30</td>\n",
       "      <td>16</td>\n",
       "      <td>2</td>\n",
       "    </tr>\n",
       "    <tr>\n",
       "      <td>116063</td>\n",
       "      <td>A-116065</td>\n",
       "      <td>3</td>\n",
       "      <td>25.899435</td>\n",
       "      <td>-80.346680</td>\n",
       "      <td>0.01</td>\n",
       "      <td>Hialeah</td>\n",
       "      <td>Miami-Dade</td>\n",
       "      <td>FL</td>\n",
       "      <td>80.1</td>\n",
       "      <td>69.0</td>\n",
       "      <td>...</td>\n",
       "      <td>False</td>\n",
       "      <td>False</td>\n",
       "      <td>Day</td>\n",
       "      <td>Day</td>\n",
       "      <td>cloudy</td>\n",
       "      <td>2016</td>\n",
       "      <td>11</td>\n",
       "      <td>30</td>\n",
       "      <td>16</td>\n",
       "      <td>2</td>\n",
       "    </tr>\n",
       "    <tr>\n",
       "      <td>116064</td>\n",
       "      <td>A-116066</td>\n",
       "      <td>2</td>\n",
       "      <td>26.272926</td>\n",
       "      <td>-80.296432</td>\n",
       "      <td>0.01</td>\n",
       "      <td>Pompano Beach</td>\n",
       "      <td>Broward</td>\n",
       "      <td>FL</td>\n",
       "      <td>79.0</td>\n",
       "      <td>69.0</td>\n",
       "      <td>...</td>\n",
       "      <td>False</td>\n",
       "      <td>False</td>\n",
       "      <td>Day</td>\n",
       "      <td>Day</td>\n",
       "      <td>rain</td>\n",
       "      <td>2016</td>\n",
       "      <td>11</td>\n",
       "      <td>30</td>\n",
       "      <td>16</td>\n",
       "      <td>2</td>\n",
       "    </tr>\n",
       "  </tbody>\n",
       "</table>\n",
       "<p>5 rows × 36 columns</p>\n",
       "</div>"
      ],
      "text/plain": [
       "              ID  Severity  Start_Lat  Start_Lng  Distance(mi)           City  \\\n",
       "116060  A-116062         3  27.981367 -82.326561          0.01          Tampa   \n",
       "116061  A-116063         3  27.981367 -82.326561          0.01          Tampa   \n",
       "116062  A-116064         2  25.627699 -80.374451          0.01          Miami   \n",
       "116063  A-116065         3  25.899435 -80.346680          0.01        Hialeah   \n",
       "116064  A-116066         2  26.272926 -80.296432          0.01  Pompano Beach   \n",
       "\n",
       "              County State  Temperature(F)  Humidity(%)  ...  Traffic_Signal  \\\n",
       "116060  Hillsborough    FL            80.6         70.0  ...           False   \n",
       "116061  Hillsborough    FL            80.6         65.0  ...           False   \n",
       "116062    Miami-Dade    FL            80.1         71.0  ...            True   \n",
       "116063    Miami-Dade    FL            80.1         69.0  ...           False   \n",
       "116064       Broward    FL            79.0         69.0  ...           False   \n",
       "\n",
       "        Turning_Loop Sunrise_Sunset  Civil_Twilight weather_keyword  Year  \\\n",
       "116060         False            Day             Day        overcast  2016   \n",
       "116061         False            Day             Day          cloudy  2016   \n",
       "116062         False            Day             Day          cloudy  2016   \n",
       "116063         False            Day             Day          cloudy  2016   \n",
       "116064         False            Day             Day            rain  2016   \n",
       "\n",
       "        Month  Date  Hour  Weekday  \n",
       "116060     11    30    15        2  \n",
       "116061     11    30    16        2  \n",
       "116062     11    30    16        2  \n",
       "116063     11    30    16        2  \n",
       "116064     11    30    16        2  \n",
       "\n",
       "[5 rows x 36 columns]"
      ]
     },
     "execution_count": 4,
     "metadata": {},
     "output_type": "execute_result"
    }
   ],
   "source": [
    "cleanData.head()"
   ]
  },
  {
   "cell_type": "markdown",
   "metadata": {},
   "source": [
    "Exploratory Data Analysis"
   ]
  },
  {
   "cell_type": "code",
   "execution_count": 5,
   "metadata": {},
   "outputs": [
    {
     "name": "stdout",
     "output_type": "stream",
     "text": [
      "<class 'pandas.core.frame.DataFrame'>\n",
      "Int64Index: 223746 entries, 116060 to 2974015\n",
      "Data columns (total 36 columns):\n",
      "ID                   223746 non-null object\n",
      "Severity             223746 non-null int64\n",
      "Start_Lat            223746 non-null float64\n",
      "Start_Lng            223746 non-null float64\n",
      "Distance(mi)         223746 non-null float64\n",
      "City                 223719 non-null object\n",
      "County               223746 non-null object\n",
      "State                223746 non-null object\n",
      "Temperature(F)       220498 non-null float64\n",
      "Humidity(%)          220118 non-null float64\n",
      "Pressure(in)         221929 non-null float64\n",
      "Visibility(mi)       221155 non-null float64\n",
      "Wind_Direction       222007 non-null object\n",
      "Wind_Speed(mph)      200873 non-null float64\n",
      "Weather_Condition    221180 non-null object\n",
      "Amenity              223746 non-null bool\n",
      "Bump                 223746 non-null bool\n",
      "Crossing             223746 non-null bool\n",
      "Give_Way             223746 non-null bool\n",
      "Junction             223746 non-null bool\n",
      "No_Exit              223746 non-null bool\n",
      "Railway              223746 non-null bool\n",
      "Roundabout           223746 non-null bool\n",
      "Station              223746 non-null bool\n",
      "Stop                 223746 non-null bool\n",
      "Traffic_Calming      223746 non-null bool\n",
      "Traffic_Signal       223746 non-null bool\n",
      "Turning_Loop         223746 non-null bool\n",
      "Sunrise_Sunset       223719 non-null object\n",
      "Civil_Twilight       223719 non-null object\n",
      "weather_keyword      221180 non-null object\n",
      "Year                 223746 non-null int64\n",
      "Month                223746 non-null int64\n",
      "Date                 223746 non-null int64\n",
      "Hour                 223746 non-null int64\n",
      "Weekday              223746 non-null int64\n",
      "dtypes: bool(13), float64(8), int64(6), object(9)\n",
      "memory usage: 43.7+ MB\n"
     ]
    }
   ],
   "source": [
    "cleanData.info()"
   ]
  },
  {
   "cell_type": "markdown",
   "metadata": {},
   "source": [
    "Month vs Weekday"
   ]
  },
  {
   "cell_type": "code",
   "execution_count": 11,
   "metadata": {},
   "outputs": [],
   "source": [
    "weekDayMonthMap = pd.pivot_table(cleanData,values='ID', index=['Weekday'],\n",
    "                    columns=['Month'], aggfunc='count')"
   ]
  },
  {
   "cell_type": "code",
   "execution_count": 22,
   "metadata": {},
   "outputs": [
    {
     "data": {
      "text/plain": [
       "[Text(0, 0.5, 'Mon'),\n",
       " Text(0, 1.5, 'Tues'),\n",
       " Text(0, 2.5, 'Wed'),\n",
       " Text(0, 3.5, 'Thurs'),\n",
       " Text(0, 4.5, 'Fri'),\n",
       " Text(0, 5.5, 'Sat'),\n",
       " Text(0, 6.5, 'Sun')]"
      ]
     },
     "execution_count": 22,
     "metadata": {},
     "output_type": "execute_result"
    },
    {
     "data": {
      "image/png": "[encoded data removed]",
      "text/plain": [
       "<Figure size 1008x576 with 2 Axes>"
      ]
     },
     "metadata": {
      "needs_background": "light"
     },
     "output_type": "display_data"
    }
   ],
   "source": [
    "fig, ax = plt.subplots(figsize=(14,8))         # Sample figsize in inches\n",
    "\n",
    "sns.heatmap(weekDayMonthMap, cmap=\"YlGnBu\", ax = ax)\n",
    "ax.set_yticklabels(['Mon','Tues','Wed','Thurs','Fri','Sat','Sun'])"
   ]
  },
  {
   "cell_type": "markdown",
   "metadata": {},
   "source": [
    "We see that there are significanty higher number of accidents in the weekdays compared to weekends. This is due to\n",
    "higher traffic for office-goers. Also, the accidents are more in August upto december due to colder weather and correspondingly \n",
    "adverse weather conditions. Surprisingly January has lesser accidents but that may be due to lesser vehicular traffic due to even harsh weather conditions.\n"
   ]
  },
  {
   "cell_type": "markdown",
   "metadata": {},
   "source": [
    "Cities by number of accidents"
   ]
  },
  {
   "cell_type": "code",
   "execution_count": 28,
   "metadata": {},
   "outputs": [],
   "source": [
    "citybyAccidents = cleanData.groupby('City').count()['ID']\n",
    "sortedCityData = citybyAccidents.sort_values(ascending = False)"
   ]
  },
  {
   "cell_type": "code",
   "execution_count": 30,
   "metadata": {},
   "outputs": [
    {
     "data": {
      "text/plain": [
       "<matplotlib.axes._subplots.AxesSubplot at 0x27814b30c88>"
      ]
     },
     "execution_count": 30,
     "metadata": {},
     "output_type": "execute_result"
    },
    {
     "data": {
      "image/png": "[encoded data removed]",
      "text/plain": [
       "<Figure size 1008x576 with 1 Axes>"
      ]
     },
     "metadata": {
      "needs_background": "light"
     },
     "output_type": "display_data"
    }
   ],
   "source": [
    "fig, ax = plt.subplots(figsize=(14,8)) \n",
    "sortedCityData[0:20].plot.bar()"
   ]
  },
  {
   "cell_type": "markdown",
   "metadata": {},
   "source": [
    "The above data very well correlates with the population data of citites in Florida. Although Jacksonville is the most populous city in Florida, Miami has most accidents due to high population density. "
   ]
  },
  {
   "cell_type": "markdown",
   "metadata": {},
   "source": [
    "The road features where accidents take place. Could be helpful to figure out improvements need from govt side."
   ]
  },
  {
   "cell_type": "code",
   "execution_count": 32,
   "metadata": {},
   "outputs": [
    {
     "data": {
      "text/plain": [
       "Index(['ID', 'Severity', 'Start_Lat', 'Start_Lng', 'Distance(mi)', 'City',\n",
       "       'County', 'State', 'Temperature(F)', 'Humidity(%)', 'Pressure(in)',\n",
       "       'Visibility(mi)', 'Wind_Direction', 'Wind_Speed(mph)',\n",
       "       'Weather_Condition', 'Amenity', 'Bump', 'Crossing', 'Give_Way',\n",
       "       'Junction', 'No_Exit', 'Railway', 'Roundabout', 'Station', 'Stop',\n",
       "       'Traffic_Calming', 'Traffic_Signal', 'Turning_Loop', 'Sunrise_Sunset',\n",
       "       'Civil_Twilight', 'weather_keyword', 'Year', 'Month', 'Date', 'Hour',\n",
       "       'Weekday'],\n",
       "      dtype='object')"
      ]
     },
     "execution_count": 32,
     "metadata": {},
     "output_type": "execute_result"
    }
   ],
   "source": [
    "cleanData.columns"
   ]
  },
  {
   "cell_type": "code",
   "execution_count": 34,
   "metadata": {},
   "outputs": [],
   "source": [
    "RoadData = cleanData[['Amenity', 'Bump', 'Crossing', 'Give_Way',\n",
    "       'Junction', 'No_Exit', 'Railway', 'Roundabout', 'Station', 'Stop',\n",
    "       'Traffic_Calming', 'Traffic_Signal', 'Turning_Loop']]"
   ]
  },
  {
   "cell_type": "code",
   "execution_count": 40,
   "metadata": {},
   "outputs": [],
   "source": [
    "featureCounts = {}\n",
    "for col in RoadData.columns:\n",
    "    featureCounts[col] = RoadData[RoadData[col] == True][col].count()\n"
   ]
  },
  {
   "cell_type": "code",
   "execution_count": 41,
   "metadata": {},
   "outputs": [
    {
     "data": {
      "text/plain": [
       "{'Amenity': 721,\n",
       " 'Bump': 6,\n",
       " 'Crossing': 23462,\n",
       " 'Give_Way': 199,\n",
       " 'Junction': 13241,\n",
       " 'No_Exit': 324,\n",
       " 'Railway': 770,\n",
       " 'Roundabout': 32,\n",
       " 'Station': 7203,\n",
       " 'Stop': 732,\n",
       " 'Traffic_Calming': 41,\n",
       " 'Traffic_Signal': 60525,\n",
       " 'Turning_Loop': 0}"
      ]
     },
     "execution_count": 41,
     "metadata": {},
     "output_type": "execute_result"
    }
   ],
   "source": [
    "featureCounts"
   ]
  },
  {
   "cell_type": "code",
   "execution_count": 43,
   "metadata": {},
   "outputs": [
    {
     "data": {
      "text/plain": [
       "<matplotlib.axes._subplots.AxesSubplot at 0x2781a5ee708>"
      ]
     },
     "execution_count": 43,
     "metadata": {},
     "output_type": "execute_result"
    },
    {
     "data": {
      "image/png": "[encoded data removed]",
      "text/plain": [
       "<Figure size 432x288 with 1 Axes>"
      ]
     },
     "metadata": {
      "needs_background": "light"
     },
     "output_type": "display_data"
    }
   ],
   "source": [
    "pd.Series(featureCounts).sort_values(ascending = False).plot.bar()"
   ]
  },
  {
   "cell_type": "markdown",
   "metadata": {},
   "source": [
    "Most of the accidents have taken place near a traffic signal or a crossing or a junction. Which is expected behavior. So we expect to find probability of accidents near these points to be high."
   ]
  },
  {
   "cell_type": "markdown",
   "metadata": {},
   "source": [
    "Accidents vs Weather Conditions"
   ]
  },
  {
   "cell_type": "code",
   "execution_count": 48,
   "metadata": {},
   "outputs": [
    {
     "data": {
      "text/plain": [
       "<matplotlib.axes._subplots.AxesSubplot at 0x2781bbde308>"
      ]
     },
     "execution_count": 48,
     "metadata": {},
     "output_type": "execute_result"
    },
    {
     "data": {
      "image/png": "[encoded data removed]",
      "text/plain": [
       "<Figure size 1008x576 with 1 Axes>"
      ]
     },
     "metadata": {
      "needs_background": "light"
     },
     "output_type": "display_data"
    }
   ],
   "source": [
    "accidentsbyWeather = cleanData.groupby('weather_keyword').count()['ID']\n",
    "sortedWeatherData = accidentsbyWeather.sort_values(ascending = False)\n",
    "fig, ax = plt.subplots(figsize=(14,8)) \n",
    "sortedWeatherData.plot.bar()"
   ]
  },
  {
   "cell_type": "markdown",
   "metadata": {},
   "source": [
    "We observe that weather conditions donot relate much to accidents. Most accidents have taken place in clear/cloudy weather which are not extreme conditions. But this does not mean that there is no correlation. Since clear/cloudy weather conditions are comparably more abundant than others, we see those inflated numbers. "
   ]
  },
  {
   "cell_type": "code",
   "execution_count": 49,
   "metadata": {},
   "outputs": [
    {
     "name": "stdout",
     "output_type": "stream",
     "text": [
      "<class 'pandas.core.frame.DataFrame'>\n",
      "Int64Index: 223746 entries, 116060 to 2974015\n",
      "Data columns (total 36 columns):\n",
      "ID                   223746 non-null object\n",
      "Severity             223746 non-null int64\n",
      "Start_Lat            223746 non-null float64\n",
      "Start_Lng            223746 non-null float64\n",
      "Distance(mi)         223746 non-null float64\n",
      "City                 223719 non-null object\n",
      "County               223746 non-null object\n",
      "State                223746 non-null object\n",
      "Temperature(F)       220498 non-null float64\n",
      "Humidity(%)          220118 non-null float64\n",
      "Pressure(in)         221929 non-null float64\n",
      "Visibility(mi)       221155 non-null float64\n",
      "Wind_Direction       222007 non-null object\n",
      "Wind_Speed(mph)      200873 non-null float64\n",
      "Weather_Condition    221180 non-null object\n",
      "Amenity              223746 non-null bool\n",
      "Bump                 223746 non-null bool\n",
      "Crossing             223746 non-null bool\n",
      "Give_Way             223746 non-null bool\n",
      "Junction             223746 non-null bool\n",
      "No_Exit              223746 non-null bool\n",
      "Railway              223746 non-null bool\n",
      "Roundabout           223746 non-null bool\n",
      "Station              223746 non-null bool\n",
      "Stop                 223746 non-null bool\n",
      "Traffic_Calming      223746 non-null bool\n",
      "Traffic_Signal       223746 non-null bool\n",
      "Turning_Loop         223746 non-null bool\n",
      "Sunrise_Sunset       223719 non-null object\n",
      "Civil_Twilight       223719 non-null object\n",
      "weather_keyword      221180 non-null object\n",
      "Year                 223746 non-null int64\n",
      "Month                223746 non-null int64\n",
      "Date                 223746 non-null int64\n",
      "Hour                 223746 non-null int64\n",
      "Weekday              223746 non-null int64\n",
      "dtypes: bool(13), float64(8), int64(6), object(9)\n",
      "memory usage: 43.7+ MB\n"
     ]
    }
   ],
   "source": [
    "cleanData.info()"
   ]
  },
  {
   "cell_type": "code",
   "execution_count": 58,
   "metadata": {},
   "outputs": [
    {
     "name": "stderr",
     "output_type": "stream",
     "text": [
      "C:\\Users\\sablo\\Anaconda3\\lib\\site-packages\\ipykernel_launcher.py:1: SettingWithCopyWarning: \n",
      "A value is trying to be set on a copy of a slice from a DataFrame\n",
      "\n",
      "See the caveats in the documentation: http://pandas.pydata.org/pandas-docs/stable/user_guide/indexing.html#returning-a-view-versus-a-copy\n",
      "  \"\"\"Entry point for launching an IPython kernel.\n"
     ]
    }
   ],
   "source": [
    "cleanData.dropna(axis=0, how='any', inplace = True)"
   ]
  },
  {
   "cell_type": "markdown",
   "metadata": {},
   "source": [
    "Using Clustering -> Since the accident points in the state might be too scattered to effectively predict the accident probability, we want to define another feature, Cluster. Cluster would basically identify the hotspots of accidents in the state. Places with more than 20 accidents within a range of 20 mts from one another would be put into a cluster."
   ]
  },
  {
   "cell_type": "code",
   "execution_count": 73,
   "metadata": {},
   "outputs": [],
   "source": [
    "from sklearn.cluster import DBSCAN\n",
    "from sklearn import metrics\n",
    "from sklearn.datasets import make_blobs\n",
    "from sklearn.preprocessing import StandardScaler\n",
    "from sklearn import neighbors\n",
    "from sklearn.metrics.pairwise import haversine_distances\n",
    "from math import radians\n"
   ]
  },
  {
   "cell_type": "code",
   "execution_count": 87,
   "metadata": {},
   "outputs": [],
   "source": [
    "X = cleanData[['Start_Lat','Start_Lng']]"
   ]
  },
  {
   "cell_type": "code",
   "execution_count": 88,
   "metadata": {},
   "outputs": [
    {
     "name": "stderr",
     "output_type": "stream",
     "text": [
      "C:\\Users\\sablo\\Anaconda3\\lib\\site-packages\\ipykernel_launcher.py:1: SettingWithCopyWarning: \n",
      "A value is trying to be set on a copy of a slice from a DataFrame.\n",
      "Try using .loc[row_indexer,col_indexer] = value instead\n",
      "\n",
      "See the caveats in the documentation: http://pandas.pydata.org/pandas-docs/stable/user_guide/indexing.html#returning-a-view-versus-a-copy\n",
      "  \"\"\"Entry point for launching an IPython kernel.\n",
      "C:\\Users\\sablo\\Anaconda3\\lib\\site-packages\\ipykernel_launcher.py:2: SettingWithCopyWarning: \n",
      "A value is trying to be set on a copy of a slice from a DataFrame.\n",
      "Try using .loc[row_indexer,col_indexer] = value instead\n",
      "\n",
      "See the caveats in the documentation: http://pandas.pydata.org/pandas-docs/stable/user_guide/indexing.html#returning-a-view-versus-a-copy\n",
      "  \n"
     ]
    },
    {
     "data": {
      "text/html": [
       "<div>\n",
       "<style scoped>\n",
       "    .dataframe tbody tr th:only-of-type {\n",
       "        vertical-align: middle;\n",
       "    }\n",
       "\n",
       "    .dataframe tbody tr th {\n",
       "        vertical-align: top;\n",
       "    }\n",
       "\n",
       "    .dataframe thead th {\n",
       "        text-align: right;\n",
       "    }\n",
       "</style>\n",
       "<table border=\"1\" class=\"dataframe\">\n",
       "  <thead>\n",
       "    <tr style=\"text-align: right;\">\n",
       "      <th></th>\n",
       "      <th>Start_Lat</th>\n",
       "      <th>Start_Lng</th>\n",
       "    </tr>\n",
       "  </thead>\n",
       "  <tbody>\n",
       "    <tr>\n",
       "      <td>116060</td>\n",
       "      <td>0.488367</td>\n",
       "      <td>-1.436870</td>\n",
       "    </tr>\n",
       "    <tr>\n",
       "      <td>116061</td>\n",
       "      <td>0.488367</td>\n",
       "      <td>-1.436870</td>\n",
       "    </tr>\n",
       "    <tr>\n",
       "      <td>116062</td>\n",
       "      <td>0.447288</td>\n",
       "      <td>-1.402799</td>\n",
       "    </tr>\n",
       "    <tr>\n",
       "      <td>116063</td>\n",
       "      <td>0.452030</td>\n",
       "      <td>-1.402314</td>\n",
       "    </tr>\n",
       "    <tr>\n",
       "      <td>116064</td>\n",
       "      <td>0.458549</td>\n",
       "      <td>-1.401437</td>\n",
       "    </tr>\n",
       "    <tr>\n",
       "      <td>...</td>\n",
       "      <td>...</td>\n",
       "      <td>...</td>\n",
       "    </tr>\n",
       "    <tr>\n",
       "      <td>2974002</td>\n",
       "      <td>0.529327</td>\n",
       "      <td>-1.447916</td>\n",
       "    </tr>\n",
       "    <tr>\n",
       "      <td>2974003</td>\n",
       "      <td>0.468508</td>\n",
       "      <td>-1.398089</td>\n",
       "    </tr>\n",
       "    <tr>\n",
       "      <td>2974004</td>\n",
       "      <td>0.513237</td>\n",
       "      <td>-1.416447</td>\n",
       "    </tr>\n",
       "    <tr>\n",
       "      <td>2974014</td>\n",
       "      <td>0.498241</td>\n",
       "      <td>-1.418432</td>\n",
       "    </tr>\n",
       "    <tr>\n",
       "      <td>2974015</td>\n",
       "      <td>0.452668</td>\n",
       "      <td>-1.399740</td>\n",
       "    </tr>\n",
       "  </tbody>\n",
       "</table>\n",
       "<p>198373 rows × 2 columns</p>\n",
       "</div>"
      ],
      "text/plain": [
       "         Start_Lat  Start_Lng\n",
       "116060    0.488367  -1.436870\n",
       "116061    0.488367  -1.436870\n",
       "116062    0.447288  -1.402799\n",
       "116063    0.452030  -1.402314\n",
       "116064    0.458549  -1.401437\n",
       "...            ...        ...\n",
       "2974002   0.529327  -1.447916\n",
       "2974003   0.468508  -1.398089\n",
       "2974004   0.513237  -1.416447\n",
       "2974014   0.498241  -1.418432\n",
       "2974015   0.452668  -1.399740\n",
       "\n",
       "[198373 rows x 2 columns]"
      ]
     },
     "execution_count": 88,
     "metadata": {},
     "output_type": "execute_result"
    }
   ],
   "source": [
    "X['Start_Lat'] = [radians(_) for _ in X['Start_Lat']]\n",
    "X['Start_Lng'] = [radians(_) for _ in X['Start_Lng']]\n",
    "X"
   ]
  },
  {
   "cell_type": "code",
   "execution_count": 103,
   "metadata": {},
   "outputs": [],
   "source": [
    "db = DBSCAN(eps=0.00000313922, min_samples=20, metric=\"haversine\").fit(X)"
   ]
  },
  {
   "cell_type": "code",
   "execution_count": 104,
   "metadata": {},
   "outputs": [
    {
     "data": {
      "text/plain": [
       "1594"
      ]
     },
     "execution_count": 104,
     "metadata": {},
     "output_type": "execute_result"
    }
   ],
   "source": [
    "labels = db.labels_\n",
    "n_clusters_ = len(set(labels)) - (1 if -1 in labels else 0)\n",
    "n_clusters_"
   ]
  },
  {
   "cell_type": "code",
   "execution_count": 110,
   "metadata": {},
   "outputs": [
    {
     "name": "stderr",
     "output_type": "stream",
     "text": [
      "C:\\Users\\sablo\\Anaconda3\\lib\\site-packages\\ipykernel_launcher.py:1: SettingWithCopyWarning: \n",
      "A value is trying to be set on a copy of a slice from a DataFrame.\n",
      "Try using .loc[row_indexer,col_indexer] = value instead\n",
      "\n",
      "See the caveats in the documentation: http://pandas.pydata.org/pandas-docs/stable/user_guide/indexing.html#returning-a-view-versus-a-copy\n",
      "  \"\"\"Entry point for launching an IPython kernel.\n"
     ]
    }
   ],
   "source": [
    "cleanData['Cluster'] = labels"
   ]
  },
  {
   "cell_type": "code",
   "execution_count": 95,
   "metadata": {},
   "outputs": [
    {
     "name": "stdout",
     "output_type": "stream",
     "text": [
      "<class 'pandas.core.frame.DataFrame'>\n",
      "Int64Index: 198373 entries, 116060 to 2974015\n",
      "Data columns (total 37 columns):\n",
      "ID                   198373 non-null object\n",
      "Severity             198373 non-null int64\n",
      "Start_Lat            198373 non-null float64\n",
      "Start_Lng            198373 non-null float64\n",
      "Distance(mi)         198373 non-null float64\n",
      "City                 198373 non-null object\n",
      "County               198373 non-null object\n",
      "State                198373 non-null object\n",
      "Temperature(F)       198373 non-null float64\n",
      "Humidity(%)          198373 non-null float64\n",
      "Pressure(in)         198373 non-null float64\n",
      "Visibility(mi)       198373 non-null float64\n",
      "Wind_Direction       198373 non-null object\n",
      "Wind_Speed(mph)      198373 non-null float64\n",
      "Weather_Condition    198373 non-null object\n",
      "Amenity              198373 non-null bool\n",
      "Bump                 198373 non-null bool\n",
      "Crossing             198373 non-null bool\n",
      "Give_Way             198373 non-null bool\n",
      "Junction             198373 non-null bool\n",
      "No_Exit              198373 non-null bool\n",
      "Railway              198373 non-null bool\n",
      "Roundabout           198373 non-null bool\n",
      "Station              198373 non-null bool\n",
      "Stop                 198373 non-null bool\n",
      "Traffic_Calming      198373 non-null bool\n",
      "Traffic_Signal       198373 non-null bool\n",
      "Turning_Loop         198373 non-null bool\n",
      "Sunrise_Sunset       198373 non-null object\n",
      "Civil_Twilight       198373 non-null object\n",
      "weather_keyword      198373 non-null object\n",
      "Year                 198373 non-null int64\n",
      "Month                198373 non-null int64\n",
      "Date                 198373 non-null int64\n",
      "Hour                 198373 non-null int64\n",
      "Weekday              198373 non-null int64\n",
      "Cluster              198373 non-null int64\n",
      "dtypes: bool(13), float64(8), int64(7), object(9)\n",
      "memory usage: 40.3+ MB\n"
     ]
    }
   ],
   "source": [
    "cleanData.info()"
   ]
  },
  {
   "cell_type": "code",
   "execution_count": 96,
   "metadata": {},
   "outputs": [],
   "source": []
  },
  {
   "cell_type": "code",
   "execution_count": 111,
   "metadata": {},
   "outputs": [],
   "source": [
    "cleanData = cleanData[cleanData['Cluster'] != -1]"
   ]
  },
  {
   "cell_type": "code",
   "execution_count": 112,
   "metadata": {},
   "outputs": [],
   "source": [
    "finalData = cleanData.copy()\n"
   ]
  },
  {
   "cell_type": "code",
   "execution_count": 113,
   "metadata": {},
   "outputs": [
    {
     "data": {
      "text/plain": [
       "(81845, 37)"
      ]
     },
     "execution_count": 113,
     "metadata": {},
     "output_type": "execute_result"
    }
   ],
   "source": [
    "finalData.shape"
   ]
  },
  {
   "cell_type": "code",
   "execution_count": 114,
   "metadata": {},
   "outputs": [
    {
     "data": {
      "text/plain": [
       "Cluster\n",
       "182     521\n",
       "79      454\n",
       "88      431\n",
       "223     394\n",
       "5       393\n",
       "       ... \n",
       "1149     20\n",
       "348      20\n",
       "1195     20\n",
       "1198     20\n",
       "1593     19\n",
       "Name: ID, Length: 1594, dtype: int64"
      ]
     },
     "execution_count": 114,
     "metadata": {},
     "output_type": "execute_result"
    }
   ],
   "source": [
    "finalData.groupby('Cluster').count()['ID'].sort_values(ascending = False)"
   ]
  },
  {
   "cell_type": "code",
   "execution_count": 116,
   "metadata": {},
   "outputs": [],
   "source": [
    "finalData.to_csv('finalDatawithClustering.csv',index = False)"
   ]
  },
  {
   "cell_type": "code",
   "execution_count": null,
   "metadata": {},
   "outputs": [],
   "source": []
  }
 ],
 "metadata": {
  "kernelspec": {
   "display_name": "Python 3",
   "language": "python",
   "name": "python3"
  },
  "language_info": {
   "codemirror_mode": {
    "name": "ipython",
    "version": 3
   },
   "file_extension": ".py",
   "mimetype": "text/x-python",
   "name": "python",
   "nbconvert_exporter": "python",
   "pygments_lexer": "ipython3",
   "version": "3.7.4"
  }
 },
 "nbformat": 4,
 "nbformat_minor": 2
}
